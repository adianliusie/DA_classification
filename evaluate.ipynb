{
 "cells": [
  {
   "cell_type": "code",
   "execution_count": 1,
   "metadata": {},
   "outputs": [],
   "source": [
    "%load_ext autoreload\n",
    "%autoreload 2"
   ]
  },
  {
   "cell_type": "code",
   "execution_count": 1,
   "metadata": {},
   "outputs": [],
   "source": [
    "from types import SimpleNamespace\n",
    "\n",
    "from src.eval_handler import EvalHandler\n",
    "from src.config import config"
   ]
  },
  {
   "cell_type": "code",
   "execution_count": null,
   "metadata": {},
   "outputs": [
    {
     "name": "stderr",
     "output_type": "stream",
     "text": [
      "100%|██████████| 19/19 [00:00<00:00, 62.12it/s]\n"
     ]
    },
    {
     "data": {
      "application/vnd.jupyter.widget-view+json": {
       "model_id": "43a0b275d7f04d55898ceb8377796ab8",
       "version_major": 2,
       "version_minor": 0
      },
      "text/plain": [
       "  0%|          | 0/19 [00:00<?, ?it/s]"
      ]
     },
     "metadata": {},
     "output_type": "display_data"
    }
   ],
   "source": [
    "E = EvalHandler('context/bsz8_lr-5_e5')\n",
    "#E = EvalHandler('seq2seq/bs4_lr-5_e80')\n",
    "\n",
    "eval_path = f\"{config.base_dir}/data/swda/standard/test.json\"\n",
    "a = {'test_path':eval_path,\n",
    "     'bsz':4}\n",
    "a = SimpleNamespace(**a)\n",
    "\n",
    "E.evaluate_free(a)"
   ]
  },
  {
   "cell_type": "code",
   "execution_count": null,
   "metadata": {},
   "outputs": [],
   "source": [
    "E = EvalHandler('bs4_lr-5_e100')\n",
    "\n",
    "eval_path = f\"{config.base_dir}/data/swda/standard/train.json\"\n",
    "a = {'test_path':eval_path,\n",
    "     'bsz':4}\n",
    "a = SimpleNamespace(**a)\n",
    "\n",
    "E.evaluate(a)\n",
    "#E.evaluate_free(a)"
   ]
  },
  {
   "cell_type": "code",
   "execution_count": null,
   "metadata": {},
   "outputs": [],
   "source": [
    "import matplotlib.pyplot as plt\n",
    "import seaborn\n",
    "\n",
    "train_loss = [2.247, 1.947, 1.877, 1.793, 1.696, 1.548, 1.413, 1.275, 1.423, 1.306, 1.326]\n",
    "dev_loss   = [2.025, 1.868, 1.854, 1.733, 1.566, 1.523, 1.423, 1.379, 1.133, 1.033, 0.945]\n",
    "\n",
    "seaborn.set_theme()\n",
    "epochs = range(0, 51, 5)\n",
    "plt.plot(epochs, dev_loss)\n",
    "plt.plot(epochs, train_loss)\n",
    "\n",
    "plt.ylabel('loss')\n",
    "plt.xlabel('epochs')\n",
    "plt.xlim(0, 50)\n",
    "plt.legend(['train', 'dev'])"
   ]
  },
  {
   "cell_type": "code",
   "execution_count": null,
   "metadata": {},
   "outputs": [],
   "source": [
    "train_loss = [2.247,2.028,1.967,1.932,1.890,1.877,1.857,1.813,1.759,1.718,1.696,1.614,1.581,1.500,1.474,1.413,1.382,1.333,1.275,1.207,1.178,1.103,1.074,1.033,1.000,0.953]\n",
    "dev_loss = [2.025,1.902,1.886,1.824,1.853,1.854,1.721,1.705,1.718,1.669,1.566,1.524,1.579,1.442,1.432,1.423,1.415,1.473,1.379,1.328,1.423,1.299,1.361,1.365,1.381,1.326]\n",
    "\n",
    "seaborn.set_theme()\n",
    "epochs = range(0, 51, 2)\n",
    "plt.plot(epochs, train_loss)\n",
    "plt.plot(epochs, dev_loss)\n",
    "\n",
    "plt.ylabel('loss')\n",
    "plt.xlabel('epochs')\n",
    "plt.xlim(0, 50)\n",
    "plt.legend(['train', 'dev'])\n",
    "\n",
    "\n"
   ]
  },
  {
   "cell_type": "code",
   "execution_count": null,
   "metadata": {},
   "outputs": [],
   "source": []
  }
 ],
 "metadata": {
  "kernelspec": {
   "display_name": "Python 3",
   "language": "python",
   "name": "python3"
  },
  "language_info": {
   "codemirror_mode": {
    "name": "ipython",
    "version": 3
   },
   "file_extension": ".py",
   "mimetype": "text/x-python",
   "name": "python",
   "nbconvert_exporter": "python",
   "pygments_lexer": "ipython3",
   "version": "3.8.5"
  }
 },
 "nbformat": 4,
 "nbformat_minor": 4
}
