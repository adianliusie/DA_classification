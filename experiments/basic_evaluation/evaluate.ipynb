{
 "cells": [
  {
   "cell_type": "code",
   "execution_count": 1,
   "metadata": {},
   "outputs": [],
   "source": [
    "%load_ext autoreload\n",
    "%autoreload 2"
   ]
  },
  {
   "cell_type": "code",
   "execution_count": 2,
   "metadata": {},
   "outputs": [],
   "source": [
    "import sys\n",
    "\n",
    "sys.path.append('/home/alta/Conversational/OET/al826/2022/seq_cls')"
   ]
  },
  {
   "cell_type": "code",
   "execution_count": 3,
   "metadata": {},
   "outputs": [],
   "source": [
    "from types import SimpleNamespace\n",
    "\n",
    "from src.eval_handler import EvalHandler\n",
    "from src.config import config"
   ]
  },
  {
   "cell_type": "code",
   "execution_count": 5,
   "metadata": {},
   "outputs": [
    {
     "name": "stdout",
     "output_type": "stream",
     "text": [
      "using the following transformer mode: led\n",
      "using baseline seq2seq set up\n",
      "loss 2.112   acc 0.632\n"
     ]
    },
    {
     "data": {
      "application/vnd.jupyter.widget-view+json": {
       "model_id": "e1d07539684949dd88591f538c8c20ac",
       "version_major": 2,
       "version_minor": 0
      },
      "text/plain": [
       "  0%|          | 0/19 [00:00<?, ?it/s]"
      ]
     },
     "metadata": {},
     "output_type": "display_data"
    },
    {
     "name": "stdout",
     "output_type": "stream",
     "text": [
      "WER: 0.355  subs: 0.189   ins: 0.135  dels: 0.030\n"
     ]
    },
    {
     "data": {
      "text/plain": [
       "(0.35451136112949483,\n",
       " 0.18927862342819324,\n",
       " 0.13545113611294948,\n",
       " 0.029781601588352084)"
      ]
     },
     "execution_count": 5,
     "metadata": {},
     "output_type": "execute_result"
    }
   ],
   "source": [
    "E = EvalHandler('arch/led_full', hpc=True)\n",
    "#E = EvalHandler('context/bsz4_l1e5', hpc=False)\n",
    "#E = EvalHandler('redo/led_simple_rand_6', hpc=True)\n",
    "\n",
    "\n",
    "eval_path = f\"{config.base_dir}/data/swda/standard/test.json\"\n",
    "label_path = f\"{config.base_dir}/data/swda/standard/labels.json\"\n",
    "\n",
    "test_args = {'test_path':eval_path,\n",
    "             'label_path':label_path, \n",
    "             'bsz':1,\n",
    "            }\n",
    "\n",
    "test_args = SimpleNamespace(**test_args)\n",
    "\n",
    "#E.eval_debug(test_args)\n",
    "E.evaluate(test_args)\n",
    "E.evaluate_free(test_args)"
   ]
  },
  {
   "cell_type": "code",
   "execution_count": null,
   "metadata": {},
   "outputs": [],
   "source": []
  },
  {
   "cell_type": "markdown",
   "metadata": {},
   "source": [
    "# "
   ]
  }
 ],
 "metadata": {
  "kernelspec": {
   "display_name": "Python 3",
   "language": "python",
   "name": "python3"
  },
  "language_info": {
   "codemirror_mode": {
    "name": "ipython",
    "version": 3
   },
   "file_extension": ".py",
   "mimetype": "text/x-python",
   "name": "python",
   "nbconvert_exporter": "python",
   "pygments_lexer": "ipython3",
   "version": "3.8.5"
  }
 },
 "nbformat": 4,
 "nbformat_minor": 4
}
