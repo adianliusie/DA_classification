{
 "cells": [
  {
   "cell_type": "code",
   "execution_count": 1,
   "metadata": {},
   "outputs": [],
   "source": [
    "%load_ext autoreload\n",
    "%autoreload 2"
   ]
  },
  {
   "cell_type": "code",
   "execution_count": null,
   "metadata": {},
   "outputs": [],
   "source": [
    "import sys\n",
    "\n",
    "sys.path.append('/home/alta/Conversational/OET/al826/2022/seq_cls')"
   ]
  },
  {
   "cell_type": "code",
   "execution_count": 28,
   "metadata": {},
   "outputs": [],
   "source": [
    "from types import SimpleNamespace\n",
    "\n",
    "from src.eval_handler import EvalHandler\n",
    "from src.config import config"
   ]
  },
  {
   "cell_type": "code",
   "execution_count": 34,
   "metadata": {},
   "outputs": [
    {
     "name": "stderr",
     "output_type": "stream",
     "text": [
      "100%|██████████| 20/20 [00:00<00:00, 1166.64it/s]\n"
     ]
    },
    {
     "data": {
      "application/vnd.jupyter.widget-view+json": {
       "model_id": "22105a03ab434ab3a216c0d4dd00a4cd",
       "version_major": 2,
       "version_minor": 0
      },
      "text/plain": [
       "  0%|          | 0/20 [00:00<?, ?it/s]"
      ]
     },
     "metadata": {},
     "output_type": "display_data"
    },
    {
     "name": "stdout",
     "output_type": "stream",
     "text": [
      "WER:0.345   replace:0.073   inserts: 0.182   deletion: 0.091\n"
     ]
    }
   ],
   "source": [
    "E = EvalHandler('context/bsz8_lr-5_e5')\n",
    "#E = EvalHandler('seq2seq/bs4_lr-5_e80')\n",
    "\n",
    "eval_path = f\"{config.base_dir}/data/swda/standard/test.json\"\n",
    "a = {'test_path':eval_path,\n",
    "     'bsz':4,\n",
    "     'lim':20,\n",
    "     'override':False}\n",
    "a = SimpleNamespace(**a)\n",
    "\n",
    "#E.evaluate(a)\n",
    "E.evaluate_free(a)"
   ]
  },
  {
   "cell_type": "code",
   "execution_count": null,
   "metadata": {},
   "outputs": [],
   "source": [
    "E = EvalHandler('bs4_lr-5_e100')\n",
    "\n",
    "eval_path = f\"{config.base_dir}/data/swda/standard/train.json\"\n",
    "a = {'test_path':eval_path,\n",
    "     'bsz':4}\n",
    "a = SimpleNamespace(**a)\n",
    "\n",
    "E.evaluate(a)\n",
    "#E.evaluate_free(a)"
   ]
  },
  {
   "cell_type": "code",
   "execution_count": null,
   "metadata": {},
   "outputs": [],
   "source": []
  }
 ],
 "metadata": {
  "kernelspec": {
   "display_name": "Python 3",
   "language": "python",
   "name": "python3"
  },
  "language_info": {
   "codemirror_mode": {
    "name": "ipython",
    "version": 3
   },
   "file_extension": ".py",
   "mimetype": "text/x-python",
   "name": "python",
   "nbconvert_exporter": "python",
   "pygments_lexer": "ipython3",
   "version": "3.8.5"
  }
 },
 "nbformat": 4,
 "nbformat_minor": 4
}
