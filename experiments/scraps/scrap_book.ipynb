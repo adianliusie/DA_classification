{
 "cells": [
  {
   "cell_type": "code",
   "execution_count": 1,
   "metadata": {},
   "outputs": [],
   "source": [
    "%load_ext autoreload\n",
    "%autoreload 2"
   ]
  },
  {
   "cell_type": "code",
   "execution_count": 2,
   "metadata": {},
   "outputs": [
    {
     "name": "stdout",
     "output_type": "stream",
     "text": [
      "debug is on, conversations are shortened\n"
     ]
    }
   ],
   "source": [
    "from types import SimpleNamespace\n",
    "\n",
    "from src.eval_handler import EvalHandler\n",
    "from src.config import config"
   ]
  },
  {
   "cell_type": "code",
   "execution_count": 3,
   "metadata": {},
   "outputs": [
    {
     "name": "stderr",
     "output_type": "stream",
     "text": [
      "100%|██████████| 21/21 [00:00<00:00, 85.33it/s]\n"
     ]
    },
    {
     "ename": "RuntimeError",
     "evalue": "only Tensors of floating point dtype can require gradients",
     "output_type": "error",
     "traceback": [
      "\u001b[0;31m---------------------------------------------------------------------------\u001b[0m",
      "\u001b[0;31mRuntimeError\u001b[0m                              Traceback (most recent call last)",
      "\u001b[0;32m<ipython-input-3-691d7c6d0f71>\u001b[0m in \u001b[0;36m<module>\u001b[0;34m\u001b[0m\n\u001b[1;32m      6\u001b[0m \u001b[0ma\u001b[0m \u001b[0;34m=\u001b[0m \u001b[0mSimpleNamespace\u001b[0m\u001b[0;34m(\u001b[0m\u001b[0;34m**\u001b[0m\u001b[0ma\u001b[0m\u001b[0;34m)\u001b[0m\u001b[0;34m\u001b[0m\u001b[0;34m\u001b[0m\u001b[0m\n\u001b[1;32m      7\u001b[0m \u001b[0;34m\u001b[0m\u001b[0m\n\u001b[0;32m----> 8\u001b[0;31m \u001b[0mE\u001b[0m\u001b[0;34m.\u001b[0m\u001b[0msaliency\u001b[0m\u001b[0;34m(\u001b[0m\u001b[0ma\u001b[0m\u001b[0;34m,\u001b[0m \u001b[0;36m0\u001b[0m\u001b[0;34m)\u001b[0m\u001b[0;34m\u001b[0m\u001b[0;34m\u001b[0m\u001b[0m\n\u001b[0m\u001b[1;32m      9\u001b[0m \u001b[0;31m#E.evaluate_free(a)\u001b[0m\u001b[0;34m\u001b[0m\u001b[0;34m\u001b[0m\u001b[0;34m\u001b[0m\u001b[0m\n",
      "\u001b[0;32m/home/alta/Conversational/OET/al826/2022/seq_cls/src/eval_handler.py\u001b[0m in \u001b[0;36msaliency\u001b[0;34m(self, args, k)\u001b[0m\n\u001b[1;32m    103\u001b[0m                             shuf=False)[0]\n\u001b[1;32m    104\u001b[0m \u001b[0;34m\u001b[0m\u001b[0m\n\u001b[0;32m--> 105\u001b[0;31m         \u001b[0mconv\u001b[0m\u001b[0;34m.\u001b[0m\u001b[0mids\u001b[0m\u001b[0;34m.\u001b[0m\u001b[0mrequires_grad_\u001b[0m\u001b[0;34m(\u001b[0m\u001b[0;34m)\u001b[0m\u001b[0;34m\u001b[0m\u001b[0;34m\u001b[0m\u001b[0m\n\u001b[0m\u001b[1;32m    106\u001b[0m         \u001b[0moutput\u001b[0m \u001b[0;34m=\u001b[0m \u001b[0mself\u001b[0m\u001b[0;34m.\u001b[0m\u001b[0mmodel_output\u001b[0m\u001b[0;34m(\u001b[0m\u001b[0mconv\u001b[0m\u001b[0;34m)\u001b[0m\u001b[0;34m\u001b[0m\u001b[0;34m\u001b[0m\u001b[0m\n\u001b[1;32m    107\u001b[0m         \u001b[0mprint\u001b[0m\u001b[0;34m(\u001b[0m\u001b[0moutput\u001b[0m\u001b[0;34m.\u001b[0m\u001b[0mlogits\u001b[0m\u001b[0;34m.\u001b[0m\u001b[0mshape\u001b[0m\u001b[0;34m)\u001b[0m\u001b[0;34m\u001b[0m\u001b[0;34m\u001b[0m\u001b[0m\n",
      "\u001b[0;31mRuntimeError\u001b[0m: only Tensors of floating point dtype can require gradients"
     ]
    }
   ],
   "source": [
    "E = EvalHandler('bs4_lr-5_e100')\n",
    "\n",
    "eval_path = f\"{config.base_dir}/data/swda/standard/dev.json\"\n",
    "a = {'test_path':eval_path,\n",
    "     'bsz':4}\n",
    "a = SimpleNamespace(**a)\n",
    "\n",
    "E.saliency(a, 0)\n",
    "#E.evaluate_free(a)"
   ]
  },
  {
   "cell_type": "code",
   "execution_count": null,
   "metadata": {},
   "outputs": [],
   "source": [
    "end"
   ]
  },
  {
   "cell_type": "code",
   "execution_count": null,
   "metadata": {},
   "outputs": [],
   "source": [
    "E = EvalHandler('bs4_lr-5_e100')\n",
    "\n",
    "eval_path = f\"{config.base_dir}/data/swda/standard/train.json\"\n",
    "a = {'test_path':eval_path,\n",
    "     'bsz':4}\n",
    "a = SimpleNamespace(**a)\n",
    "\n",
    "E.evaluate(a)\n",
    "#E.evaluate_free(a)"
   ]
  },
  {
   "cell_type": "code",
   "execution_count": null,
   "metadata": {},
   "outputs": [],
   "source": [
    "import matplotlib.pyplot as plt\n",
    "import seaborn\n",
    "\n",
    "train_loss = [2.247, 1.947, 1.877, 1.793, 1.696, 1.548, 1.413, 1.275, 1.423, 1.306, 1.326]\n",
    "dev_loss   = [2.025, 1.868, 1.854, 1.733, 1.566, 1.523, 1.423, 1.379, 1.133, 1.033, 0.945]\n",
    "\n",
    "seaborn.set_theme()\n",
    "epochs = range(0, 51, 5)\n",
    "plt.plot(epochs, dev_loss)\n",
    "plt.plot(epochs, train_loss)\n",
    "\n",
    "plt.ylabel('loss')\n",
    "plt.xlabel('epochs')\n",
    "plt.xlim(0, 50)\n",
    "plt.legend(['train', 'dev'])"
   ]
  },
  {
   "cell_type": "code",
   "execution_count": null,
   "metadata": {},
   "outputs": [],
   "source": [
    "train_loss = [2.247,2.028,1.967,1.932,1.890,1.877,1.857,1.813,1.759,1.718,1.696,1.614,1.581,1.500,1.474,1.413,1.382,1.333,1.275,1.207,1.178,1.103,1.074,1.033,1.000,0.953]\n",
    "dev_loss = [2.025,1.902,1.886,1.824,1.853,1.854,1.721,1.705,1.718,1.669,1.566,1.524,1.579,1.442,1.432,1.423,1.415,1.473,1.379,1.328,1.423,1.299,1.361,1.365,1.381,1.326]\n",
    "\n",
    "seaborn.set_theme()\n",
    "epochs = range(0, 51, 2)\n",
    "plt.plot(epochs, train_loss)\n",
    "plt.plot(epochs, dev_loss)\n",
    "\n",
    "plt.ylabel('loss')\n",
    "plt.xlabel('epochs')\n",
    "plt.xlim(0, 50)\n",
    "plt.legend(['train', 'dev'])\n",
    "\n",
    "\n"
   ]
  },
  {
   "cell_type": "code",
   "execution_count": 34,
   "metadata": {},
   "outputs": [],
   "source": [
    "import csv   \n",
    "\n",
    "def write(*args):\n",
    "    with open('test.csv', 'a+') as f:\n",
    "        writer = csv.writer(f)\n",
    "        writer.writerow(args)\n"
   ]
  },
  {
   "cell_type": "code",
   "execution_count": 37,
   "metadata": {},
   "outputs": [],
   "source": [
    "line = [5,6,3,4]\n",
    "write(*line)"
   ]
  },
  {
   "cell_type": "code",
   "execution_count": 38,
   "metadata": {},
   "outputs": [
    {
     "name": "stdout",
     "output_type": "stream",
     "text": [
      "[[1.0, 2.0, 3.0, 4.0], [1.0, 2.0, 3.0, 4.0], [5.0, 6.0, 3.0, 4.0]]\n"
     ]
    }
   ],
   "source": [
    "list_to_float = lambda x: [float(i) for i in x] \n",
    "with open(\"test.csv\") as fp:\n",
    "    reader = csv.reader(fp, delimiter=\",\", quotechar='\"')\n",
    "    data_read = [list_to_float(row) for row in reader]\n",
    "\n",
    "print(data_read)"
   ]
  },
  {
   "cell_type": "code",
   "execution_count": null,
   "metadata": {},
   "outputs": [],
   "source": []
  }
 ],
 "metadata": {
  "kernelspec": {
   "display_name": "Python 3",
   "language": "python",
   "name": "python3"
  },
  "language_info": {
   "codemirror_mode": {
    "name": "ipython",
    "version": 3
   },
   "file_extension": ".py",
   "mimetype": "text/x-python",
   "name": "python",
   "nbconvert_exporter": "python",
   "pygments_lexer": "ipython3",
   "version": "3.8.5"
  }
 },
 "nbformat": 4,
 "nbformat_minor": 4
}
