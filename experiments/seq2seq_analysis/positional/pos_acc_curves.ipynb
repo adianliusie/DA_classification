{
 "cells": [
  {
   "cell_type": "code",
   "execution_count": 1,
   "metadata": {},
   "outputs": [],
   "source": [
    "import sys\n",
    "\n",
    "sys.path.append('/home/alta/Conversational/OET/al826/2022/seq_cls')"
   ]
  },
  {
   "cell_type": "code",
   "execution_count": 2,
   "metadata": {},
   "outputs": [],
   "source": [
    "from types import SimpleNamespace\n",
    "\n",
    "from src.eval_handler import EvalHandler\n",
    "from src.config import config\n"
   ]
  },
  {
   "cell_type": "code",
   "execution_count": 11,
   "metadata": {},
   "outputs": [
    {
     "name": "stdout",
     "output_type": "stream",
     "text": [
      "using the following transformer mode: led\n",
      "using baseline seq2seq set up\n",
      "torch.Size([129])\n",
      "torch.Size([240])\n",
      "torch.Size([313])\n",
      "torch.Size([285])\n",
      "torch.Size([178])\n",
      "torch.Size([215])\n",
      "torch.Size([180])\n",
      "torch.Size([216])\n",
      "torch.Size([200])\n",
      "torch.Size([103])\n",
      "torch.Size([257])\n",
      "torch.Size([280])\n",
      "torch.Size([283])\n",
      "torch.Size([336])\n",
      "torch.Size([389])\n",
      "torch.Size([256])\n",
      "torch.Size([250])\n",
      "torch.Size([247])\n",
      "torch.Size([176])\n",
      "using the following transformer mode: bert\n",
      "using context set up\n",
      "torch.Size([128])\n",
      "torch.Size([239])\n",
      "torch.Size([312])\n",
      "torch.Size([284])\n",
      "torch.Size([177])\n",
      "torch.Size([214])\n",
      "torch.Size([179])\n",
      "torch.Size([215])\n",
      "torch.Size([199])\n",
      "torch.Size([102])\n",
      "torch.Size([256])\n",
      "torch.Size([279])\n",
      "torch.Size([282])\n",
      "torch.Size([335])\n",
      "torch.Size([388])\n",
      "torch.Size([255])\n",
      "torch.Size([249])\n",
      "torch.Size([246])\n",
      "torch.Size([175])\n"
     ]
    }
   ],
   "source": [
    "eval_path = f\"{config.base_dir}/data/swda/standard/test.json\"\n",
    "label_path = f\"{config.base_dir}/data/swda/standard/labels.json\"\n",
    "\n",
    "test_args = {'test_path':eval_path,\n",
    "             'label_path':label_path, \n",
    "             'bsz':2}\n",
    "\n",
    "test_args = SimpleNamespace(**test_args)\n",
    "\n",
    "Es = EvalHandler('arch/led_full', hpc=True)\n",
    "Ec = EvalHandler('context/bsz4_l1e5', hpc=False)\n",
    "\n",
    "s_hits, s_counts = Es.position_accuracy(test_args)\n",
    "c_hits, c_counts = Ec.position_accuracy(test_args)"
   ]
  },
  {
   "cell_type": "code",
   "execution_count": 28,
   "metadata": {},
   "outputs": [
    {
     "name": "stderr",
     "output_type": "stream",
     "text": [
      "<ipython-input-28-d2b92373b4ea>:13: RuntimeWarning: invalid value encountered in true_divide\n",
      "  bar_plot = np.array(grp_hits)/np.array(grp_counts)\n",
      "<ipython-input-28-d2b92373b4ea>:13: RuntimeWarning: invalid value encountered in true_divide\n",
      "  bar_plot = np.array(grp_hits)/np.array(grp_counts)\n"
     ]
    },
    {
     "data": {
      "image/png": "[encoded data removed]",
      "text/plain": [
       "<Figure size 1008x360 with 1 Axes>"
      ]
     },
     "metadata": {},
     "output_type": "display_data"
    }
   ],
   "source": [
    "import numpy as np\n",
    "import matplotlib.pyplot as plt \n",
    "import seaborn as sns\n",
    "import matplotlib.patches as mpatches\n",
    "\n",
    "def plot_pos_accs(hits, counts, color='r'):\n",
    "    plt.rcParams[\"figure.figsize\"] = 14, 5\n",
    "    sns.set_theme()\n",
    "    \n",
    "    grp_hits = [np.mean(hits[i:i+10]) for i in range(0,len(hits),10)]\n",
    "    grp_counts = [np.mean(counts[i:i+10]) for i in range(0,len(counts),10)]\n",
    "\n",
    "    bar_plot = np.array(grp_hits)/np.array(grp_counts)\n",
    "    x_axis = [f\"{10*i}-{10*(i+1)}\" for i in range(len(bar_plot))]\n",
    "\n",
    "    sns.barplot(x=x_axis[:15], y=bar_plot[:15], alpha=0.8, color=color)\n",
    "    plt.xlabel('utterance range')\n",
    "    plt.ylabel('accuracy')\n",
    "    plt.ylim([0,1])\n",
    "    \n",
    "\n",
    "# Creating plot\n",
    "plot_pos_accs(c_hits, c_counts, color='orange')\n",
    "plot_pos_accs(s_hits, s_counts, color='g')\n",
    "  \n",
    "# Creating legend with color box\n",
    "orange_patch = mpatches.Patch(color='orange', label='context')\n",
    "green_patch = mpatches.Patch(color='green', label='seq2seq')\n",
    "plt.legend(handles=[orange_patch, green_patch])\n",
    "  \n",
    "# Show plot\n",
    "plt.show()"
   ]
  }
 ],
 "metadata": {
  "kernelspec": {
   "display_name": "Python 3",
   "language": "python",
   "name": "python3"
  },
  "language_info": {
   "codemirror_mode": {
    "name": "ipython",
    "version": 3
   },
   "file_extension": ".py",
   "mimetype": "text/x-python",
   "name": "python",
   "nbconvert_exporter": "python",
   "pygments_lexer": "ipython3",
   "version": "3.8.5"
  }
 },
 "nbformat": 4,
 "nbformat_minor": 4
}
