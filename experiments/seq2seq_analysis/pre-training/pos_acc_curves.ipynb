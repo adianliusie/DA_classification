{
 "cells": [
  {
   "cell_type": "code",
   "execution_count": 1,
   "metadata": {},
   "outputs": [],
   "source": [
    "import sys\n",
    "\n",
    "sys.path.append('/home/alta/Conversational/OET/al826/2022/seq_cls')"
   ]
  },
  {
   "cell_type": "code",
   "execution_count": 2,
   "metadata": {},
   "outputs": [],
   "source": [
    "from types import SimpleNamespace\n",
    "\n",
    "from src.eval_handler import EvalHandler\n",
    "from src.config import config\n"
   ]
  },
  {
   "cell_type": "code",
   "execution_count": 3,
   "metadata": {},
   "outputs": [
    {
     "name": "stdout",
     "output_type": "stream",
     "text": [
      "using the following transformer mode: led\n",
      "using baseline seq2seq set up\n",
      "torch.Size([129])\n",
      "torch.Size([240])\n",
      "torch.Size([313])\n",
      "torch.Size([285])\n",
      "torch.Size([178])\n",
      "torch.Size([215])\n",
      "torch.Size([180])\n",
      "torch.Size([216])\n",
      "torch.Size([200])\n",
      "torch.Size([103])\n",
      "torch.Size([257])\n",
      "torch.Size([280])\n",
      "torch.Size([283])\n",
      "torch.Size([336])\n",
      "torch.Size([389])\n",
      "torch.Size([256])\n",
      "torch.Size([250])\n",
      "torch.Size([247])\n",
      "torch.Size([176])\n"
     ]
    }
   ],
   "source": [
    "eval_path = f\"{config.base_dir}/data/swda/standard/test.json\"\n",
    "label_path = f\"{config.base_dir}/data/swda/standard/labels.json\"\n",
    "\n",
    "test_args = {'test_path':eval_path,\n",
    "             'label_path':label_path, \n",
    "             'bsz':2}\n",
    "\n",
    "test_args = SimpleNamespace(**test_args)\n",
    "\n",
    "E = EvalHandler('arch/led_full', hpc=True)\n",
    "\n",
    "hits, counts = E.position_accuracy(test_args)"
   ]
  },
  {
   "cell_type": "code",
   "execution_count": 4,
   "metadata": {},
   "outputs": [
    {
     "name": "stderr",
     "output_type": "stream",
     "text": [
      "<ipython-input-4-3517add3d816>:6: RuntimeWarning: invalid value encountered in true_divide\n",
      "  bar_plot = np.array(grp_hits)/np.array(grp_counts)\n"
     ]
    }
   ],
   "source": [
    "import numpy as np\n",
    "\n",
    "grp_hits = [np.mean(hits[i:i+10]) for i in range(0,len(hits),10)]\n",
    "grp_counts = [np.mean(counts[i:i+10]) for i in range(0,len(counts),10)]\n",
    "\n",
    "bar_plot = np.array(grp_hits)/np.array(grp_counts)\n",
    "x_axis = [f\"{10*i}-{10*(i+1)}\" for i in range(len(bar_plot))]\n"
   ]
  },
  {
   "cell_type": "code",
   "execution_count": 5,
   "metadata": {},
   "outputs": [
    {
     "name": "stdout",
     "output_type": "stream",
     "text": [
      "[0.77368421 0.72105263 0.77894737 0.74736842 0.78947368 0.78421053\n",
      " 0.72105263 0.62631579 0.54736842 0.55789474 0.6010929  0.58888889\n",
      " 0.63687151 0.67647059 0.66470588 0.60588235 0.60588235 0.56707317\n",
      " 0.61428571 0.65714286 0.57692308 0.52892562 0.49090909 0.51818182\n",
      " 0.49484536 0.52054795 0.43333333 0.41666667 0.57894737 0.5\n",
      " 0.66666667 0.52173913 0.5        0.125      0.3        0.\n",
      " 1.         0.5        0.33333333        nan        nan        nan\n",
      "        nan        nan        nan        nan        nan        nan\n",
      "        nan        nan]\n"
     ]
    }
   ],
   "source": [
    "print(bar_plot)"
   ]
  },
  {
   "cell_type": "code",
   "execution_count": 6,
   "metadata": {},
   "outputs": [
    {
     "ename": "NameError",
     "evalue": "name 'plt' is not defined",
     "output_type": "error",
     "traceback": [
      "\u001b[0;31m---------------------------------------------------------------------------\u001b[0m",
      "\u001b[0;31mNameError\u001b[0m                                 Traceback (most recent call last)",
      "\u001b[0;32m<ipython-input-6-1d7df640f770>\u001b[0m in \u001b[0;36m<module>\u001b[0;34m\u001b[0m\n\u001b[0;32m----> 1\u001b[0;31m \u001b[0mplt\u001b[0m\u001b[0;34m.\u001b[0m\u001b[0mplot\u001b[0m\u001b[0;34m(\u001b[0m\u001b[0mx_axis\u001b[0m\u001b[0;34m,\u001b[0m \u001b[0mbar_plot\u001b[0m\u001b[0;34m)\u001b[0m\u001b[0;34m\u001b[0m\u001b[0;34m\u001b[0m\u001b[0m\n\u001b[0m",
      "\u001b[0;31mNameError\u001b[0m: name 'plt' is not defined"
     ]
    }
   ],
   "source": [
    "plt.plot(x_axis, bar_plot)"
   ]
  },
  {
   "cell_type": "code",
   "execution_count": null,
   "metadata": {},
   "outputs": [],
   "source": [
    "import matplotlib.pyplot as plt \n",
    "import seaborn as sns\n",
    "\n",
    "plt.rcParams[\"figure.figsize\"] = 14, 5\n",
    "sns.set_theme()\n",
    "\n",
    "sns.barplot(x=x_axis[:15], y=bar_plot[:15])"
   ]
  },
  {
   "cell_type": "code",
   "execution_count": null,
   "metadata": {},
   "outputs": [],
   "source": []
  }
 ],
 "metadata": {
  "kernelspec": {
   "display_name": "Python 3",
   "language": "python",
   "name": "python3"
  },
  "language_info": {
   "codemirror_mode": {
    "name": "ipython",
    "version": 3
   },
   "file_extension": ".py",
   "mimetype": "text/x-python",
   "name": "python",
   "nbconvert_exporter": "python",
   "pygments_lexer": "ipython3",
   "version": "3.8.5"
  }
 },
 "nbformat": 4,
 "nbformat_minor": 4
}
