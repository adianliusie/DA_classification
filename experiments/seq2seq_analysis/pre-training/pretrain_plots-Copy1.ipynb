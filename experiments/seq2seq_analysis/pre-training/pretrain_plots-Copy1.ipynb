{
 "cells": [
  {
   "cell_type": "code",
   "execution_count": 1,
   "metadata": {},
   "outputs": [],
   "source": [
    "import sys\n",
    "\n",
    "sys.path.append('/home/alta/Conversational/OET/al826/2022/seq_cls')"
   ]
  },
  {
   "cell_type": "code",
   "execution_count": 2,
   "metadata": {},
   "outputs": [],
   "source": [
    "from types import SimpleNamespace\n",
    "\n",
    "from src.eval_handler import EvalHandler\n",
    "from src.config import config\n",
    "\n",
    "#from src.utils import download_hpc_model\n",
    "#download_hpc_model('arch/led_simple_2')"
   ]
  },
  {
   "cell_type": "code",
   "execution_count": 3,
   "metadata": {},
   "outputs": [
    {
     "name": "stdout",
     "output_type": "stream",
     "text": [
      "using the following transformer mode: led\n",
      "using baseline seq2seq set up\n",
      "loss 2.125   acc 0.632\n"
     ]
    }
   ],
   "source": [
    "eval_path = f\"{config.base_dir}/data/swda/standard/test.json\"\n",
    "label_path = f\"{config.base_dir}/data/swda/standard/labels.json\"\n",
    "\n",
    "test_args = {'test_path':eval_path,\n",
    "             'label_path':label_path, \n",
    "             'bsz':4}\n",
    "\n",
    "test_args = SimpleNamespace(**test_args)\n",
    "\n",
    "E = EvalHandler('arch/led_full', hpc=True)\n",
    "E.evaluate(test_args)\n",
    "E.evaluate_free(test_args)\n"
   ]
  },
  {
   "cell_type": "code",
   "execution_count": 3,
   "metadata": {},
   "outputs": [
    {
     "name": "stdout",
     "output_type": "stream",
     "text": [
      "using the following transformer mode: led_simple_1\n",
      "using baseline seq2seq set up\n"
     ]
    },
    {
     "name": "stderr",
     "output_type": "stream",
     "text": [
      "100%|██████████| 19/19 [00:00<00:00, 63.53it/s]\n"
     ]
    },
    {
     "name": "stdout",
     "output_type": "stream",
     "text": [
      "loss 1.979   acc 0.365\n"
     ]
    },
    {
     "name": "stderr",
     "output_type": "stream",
     "text": [
      "100%|██████████| 19/19 [00:00<00:00, 67.87it/s]\n"
     ]
    },
    {
     "data": {
      "application/vnd.jupyter.widget-view+json": {
       "model_id": "65c3bda07cc9489294d07ba911ea63a5",
       "version_major": 2,
       "version_minor": 0
      },
      "text/plain": [
       "  0%|          | 0/19 [00:00<?, ?it/s]"
      ]
     },
     "metadata": {},
     "output_type": "display_data"
    },
    {
     "name": "stdout",
     "output_type": "stream",
     "text": [
      "WER:1.734   replace:0.642   inserts: 0.000   deletion: 1.092\n",
      "using the following transformer mode: led_simple_2\n",
      "using baseline seq2seq set up\n"
     ]
    },
    {
     "name": "stderr",
     "output_type": "stream",
     "text": [
      "100%|██████████| 19/19 [00:00<00:00, 66.23it/s]\n"
     ]
    },
    {
     "name": "stdout",
     "output_type": "stream",
     "text": [
      "loss 1.683   acc 0.455\n"
     ]
    },
    {
     "name": "stderr",
     "output_type": "stream",
     "text": [
      "100%|██████████| 19/19 [00:00<00:00, 68.90it/s]\n"
     ]
    },
    {
     "data": {
      "application/vnd.jupyter.widget-view+json": {
       "model_id": "45f1be73d74348ada1f89bf1b4928d7f",
       "version_major": 2,
       "version_minor": 0
      },
      "text/plain": [
       "  0%|          | 0/19 [00:00<?, ?it/s]"
      ]
     },
     "metadata": {},
     "output_type": "display_data"
    },
    {
     "name": "stdout",
     "output_type": "stream",
     "text": [
      "WER:1.112   replace:0.430   inserts: 0.031   deletion: 0.651\n",
      "using the following transformer mode: led_simple_3\n",
      "using baseline seq2seq set up\n"
     ]
    },
    {
     "name": "stderr",
     "output_type": "stream",
     "text": [
      "100%|██████████| 19/19 [00:00<00:00, 66.18it/s]\n"
     ]
    },
    {
     "name": "stdout",
     "output_type": "stream",
     "text": [
      "loss 1.956   acc 0.563\n"
     ]
    },
    {
     "name": "stderr",
     "output_type": "stream",
     "text": [
      "100%|██████████| 19/19 [00:00<00:00, 65.41it/s]\n"
     ]
    },
    {
     "data": {
      "application/vnd.jupyter.widget-view+json": {
       "model_id": "7b2990a9b78743659027ffe10cfcedec",
       "version_major": 2,
       "version_minor": 0
      },
      "text/plain": [
       "  0%|          | 0/19 [00:00<?, ?it/s]"
      ]
     },
     "metadata": {},
     "output_type": "display_data"
    },
    {
     "name": "stdout",
     "output_type": "stream",
     "text": [
      "WER:0.409   replace:0.233   inserts: 0.107   deletion: 0.070\n",
      "using the following transformer mode: led_simple_4\n",
      "using baseline seq2seq set up\n"
     ]
    },
    {
     "name": "stderr",
     "output_type": "stream",
     "text": [
      "100%|██████████| 19/19 [00:00<00:00, 47.43it/s]\n"
     ]
    },
    {
     "name": "stdout",
     "output_type": "stream",
     "text": [
      "loss 1.610   acc 0.591\n"
     ]
    },
    {
     "name": "stderr",
     "output_type": "stream",
     "text": [
      "100%|██████████| 19/19 [00:00<00:00, 67.46it/s]\n"
     ]
    },
    {
     "data": {
      "application/vnd.jupyter.widget-view+json": {
       "model_id": "5c9787affdd64cd0bfb94942bf7b2897",
       "version_major": 2,
       "version_minor": 0
      },
      "text/plain": [
       "  0%|          | 0/19 [00:00<?, ?it/s]"
      ]
     },
     "metadata": {},
     "output_type": "display_data"
    },
    {
     "name": "stdout",
     "output_type": "stream",
     "text": [
      "WER:0.417   replace:0.209   inserts: 0.126   deletion: 0.082\n",
      "using the following transformer mode: led_simple_5\n",
      "using baseline seq2seq set up\n"
     ]
    },
    {
     "name": "stderr",
     "output_type": "stream",
     "text": [
      "100%|██████████| 19/19 [00:00<00:00, 66.90it/s]\n"
     ]
    },
    {
     "name": "stdout",
     "output_type": "stream",
     "text": [
      "loss 2.261   acc 0.636\n"
     ]
    },
    {
     "name": "stderr",
     "output_type": "stream",
     "text": [
      "100%|██████████| 19/19 [00:00<00:00, 69.81it/s]\n"
     ]
    },
    {
     "data": {
      "application/vnd.jupyter.widget-view+json": {
       "model_id": "969cd112f04d4ac78ccffaa4667dbbed",
       "version_major": 2,
       "version_minor": 0
      },
      "text/plain": [
       "  0%|          | 0/19 [00:00<?, ?it/s]"
      ]
     },
     "metadata": {},
     "output_type": "display_data"
    },
    {
     "name": "stdout",
     "output_type": "stream",
     "text": [
      "WER:0.495   replace:0.195   inserts: 0.100   deletion: 0.200\n",
      "using the following transformer mode: led\n",
      "using baseline seq2seq set up\n"
     ]
    },
    {
     "name": "stderr",
     "output_type": "stream",
     "text": [
      "100%|██████████| 19/19 [00:00<00:00, 69.86it/s]\n"
     ]
    },
    {
     "name": "stdout",
     "output_type": "stream",
     "text": [
      "loss 2.125   acc 0.632\n"
     ]
    }
   ],
   "source": [
    "eval_path = f\"{config.base_dir}/data/swda/standard/test.json\"\n",
    "label_path = f\"{config.base_dir}/data/swda/standard/labels.json\"\n",
    "\n",
    "test_args = {'test_path':eval_path,\n",
    "             'label_path':label_path, \n",
    "             'bsz':4}\n",
    "\n",
    "test_args = SimpleNamespace(**test_args)\n",
    "\n",
    "\n",
    "for i in range(1,6):\n",
    "    model_name = f'arch/led_simple_{i}'\n",
    "    E = EvalHandler(model_name, hpc=True)\n",
    "    E.evaluate(test_args)\n",
    "    E.evaluate_free(test_args)\n",
    "\n",
    "model_name = f'arch/led_full'\n",
    "E = EvalHandler(model_name, hpc=True)\n",
    "E.evaluate(test_args)\n",
    "E.evaluate_free(test_args)\n"
   ]
  },
  {
   "cell_type": "code",
   "execution_count": 4,
   "metadata": {},
   "outputs": [
    {
     "name": "stderr",
     "output_type": "stream",
     "text": [
      "100%|██████████| 19/19 [00:00<00:00, 69.26it/s]\n"
     ]
    },
    {
     "data": {
      "application/vnd.jupyter.widget-view+json": {
       "model_id": "3f605ff26c59453d954e43287fc91ad8",
       "version_major": 2,
       "version_minor": 0
      },
      "text/plain": [
       "  0%|          | 0/19 [00:00<?, ?it/s]"
      ]
     },
     "metadata": {},
     "output_type": "display_data"
    },
    {
     "name": "stdout",
     "output_type": "stream",
     "text": [
      "WER:0.355   replace:0.189   inserts: 0.135   deletion: 0.030\n"
     ]
    }
   ],
   "source": [
    "E.evaluate_free(test_args)"
   ]
  },
  {
   "cell_type": "code",
   "execution_count": null,
   "metadata": {},
   "outputs": [],
   "source": [
    "forced_accs = [0.365, 0.455, 0.563, 0.591, 0.636, 0.632]\n",
    "free_accs = [0, 0, 0.591, 0.583, 0.505, ]"
   ]
  }
 ],
 "metadata": {
  "kernelspec": {
   "display_name": "Python 3",
   "language": "python",
   "name": "python3"
  },
  "language_info": {
   "codemirror_mode": {
    "name": "ipython",
    "version": 3
   },
   "file_extension": ".py",
   "mimetype": "text/x-python",
   "name": "python",
   "nbconvert_exporter": "python",
   "pygments_lexer": "ipython3",
   "version": "3.8.5"
  }
 },
 "nbformat": 4,
 "nbformat_minor": 4
}
