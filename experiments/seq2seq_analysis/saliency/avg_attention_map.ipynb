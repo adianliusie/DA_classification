{
 "cells": [
  {
   "cell_type": "markdown",
   "metadata": {},
   "source": [
    "### This Notebook aims to run experiments to see the cross attention weights for seq2seq DA classification.\n",
    "\n",
    "It was hypothesised that all the encoder has all utterance seperation information, it's hard for the decoder to know what the current utterance has to be (due to complex information overload) and this notebook looks at how much focus the decoder has for each decision."
   ]
  },
  {
   "cell_type": "code",
   "execution_count": 1,
   "metadata": {},
   "outputs": [],
   "source": [
    "import sys\n",
    "\n",
    "sys.path.append('/home/alta/Conversational/OET/al826/2022/seq_cls')"
   ]
  },
  {
   "cell_type": "code",
   "execution_count": 2,
   "metadata": {},
   "outputs": [],
   "source": [
    "import matplotlib.pyplot as plt\n",
    "import seaborn as sns\n",
    "import numpy as np\n",
    "import tqdm.notebook as tqdm\n",
    "\n",
    "from types import SimpleNamespace\n",
    "import scipy\n",
    "\n",
    "from src.eval_handler import EvalHandler\n",
    "from src.config import config"
   ]
  },
  {
   "cell_type": "code",
   "execution_count": 3,
   "metadata": {
    "scrolled": true
   },
   "outputs": [
    {
     "name": "stdout",
     "output_type": "stream",
     "text": [
      "using the following transformer mode: led\n",
      "using baseline seq2seq set up\n"
     ]
    }
   ],
   "source": [
    "from src.eval_handler import EvalHandler\n",
    "\n",
    "E = EvalHandler('arch/led_full/', hpc=True)\n",
    "\n",
    "#E = EvalHandler('seq2seq/led_rand')\n",
    "#E = EvalHandler('seq2seq/post_encoder')\n",
    "\n",
    "eval_path = f\"{config.base_dir}/data/swda/standard/dev.json\"\n",
    "l_path = f\"{config.base_dir}/data/swda/standard/labels.json\"\n",
    "\n",
    "args = {'test_path':eval_path,\n",
    "        'bsz':1, \n",
    "        'override':False,\n",
    "        'label_path':l_path, \n",
    "        'system_args':None}\n",
    "\n",
    "args = SimpleNamespace(**args)"
   ]
  },
  {
   "cell_type": "markdown",
   "metadata": {},
   "source": [
    "getting average attentions over all conversations"
   ]
  },
  {
   "cell_type": "code",
   "execution_count": null,
   "metadata": {},
   "outputs": [],
   "source": [
    "sh_1, sh_2 = 300, 300\n",
    "\n",
    "free_output = np.zeros((72, sh_1, sh_2))\n",
    "forced_output = np.zeros((72, sh_1, sh_2))\n",
    "\n",
    "free_cache = []\n",
    "forced_cache = []\n",
    "\n",
    "for i in tqdm(range(21)):\n",
    "    attentions = E.attention(args, conv_num=i, free=False)[:,:sh_1,:sh_2]\n",
    "    d1, d2, d3 = attentions.shape\n",
    "    forced_output[:,:d2, :d3] = forced_output[:,:d2, :d3] + attentions\n",
    "    forced_cache.append(attentions)\n",
    "    \n",
    "    attentions = E.attention(args, conv_num=i, free=True)[:,:sh_1,:sh_2]\n",
    "    d1, d2, d3 = attentions.shape\n",
    "    free_output[:,:d2, :d3] = free_output[:,:d2, :d3] + attentions\n",
    "    free_cache.append(attentions)\n",
    "      \n",
    "row_sums = forced_output.sum(axis=-1)\n",
    "forced_attn = forced_output/row_sums[:,:,np.newaxis]\n",
    "\n",
    "row_sums = free_output.sum(axis=-1)\n",
    "free_attn = free_output/row_sums[:,:,np.newaxis]\n"
   ]
  },
  {
   "cell_type": "code",
   "execution_count": null,
   "metadata": {},
   "outputs": [],
   "source": [
    "for attn in [forced_attn, free_attn]:\n",
    "    fig, ax = plt.subplots(figsize=(20,10))         # Sample figsize in inches\n",
    "    avg_attn = np.mean(attn[-12:], axis=0)\n",
    "    #avg_attn = np.mean(attn[-16:], axis=0)\n",
    "\n",
    "    avg_attn = avg_attn[:140,:140]\n",
    "    ax = sns.heatmap(avg_attn, cbar=False, square=True, vmin=0, vmax=0.1)\n",
    "\n",
    "    xticks=ax.xaxis.get_major_ticks()\n",
    "    for i in range(len(xticks)):\n",
    "        if i%5!=0:\n",
    "            xticks[i].set_visible(False)\n",
    "\n",
    "    print(avg_attn.shape)\n",
    "    ax.axline((0, 0), slope=1)\n",
    "    plt.show()"
   ]
  }
 ],
 "metadata": {
  "kernelspec": {
   "display_name": "Python 3",
   "language": "python",
   "name": "python3"
  },
  "language_info": {
   "codemirror_mode": {
    "name": "ipython",
    "version": 3
   },
   "file_extension": ".py",
   "mimetype": "text/x-python",
   "name": "python",
   "nbconvert_exporter": "python",
   "pygments_lexer": "ipython3",
   "version": "3.8.5"
  }
 },
 "nbformat": 4,
 "nbformat_minor": 4
}
